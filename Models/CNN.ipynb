{
  "cells": [
    {
      "cell_type": "code",
      "source": [
        "from google.colab import drive\n",
        "drive.mount('/gdrive')\n",
        "!ln -s \"/gdrive/My Drive/Doodle Recognition/Dataset\" \"/content/Dataset\""
      ],
      "metadata": {
        "id": "Hr_iFtH-xpFo",
        "colab": {
          "base_uri": "https://localhost:8080/"
        },
        "outputId": "475ddc4f-9ae5-4559-86b7-e428daadb00f"
      },
      "execution_count": null,
      "outputs": [
        {
          "output_type": "stream",
          "name": "stdout",
          "text": [
            "Mounted at /gdrive\n"
          ]
        }
      ]
    },
    {
      "cell_type": "code",
      "source": [
        "# from google.colab import drive\n",
        "# drive.flush_and_unmount()"
      ],
      "metadata": {
        "id": "rIEZeBnix8Fa"
      },
      "execution_count": null,
      "outputs": []
    },
    {
      "cell_type": "markdown",
      "metadata": {
        "id": "tpDZd3JUfVbF"
      },
      "source": [
        "**MODEL TRAINING**"
      ]
    },
    {
      "cell_type": "code",
      "execution_count": null,
      "metadata": {
        "id": "9qdROerCfmiS"
      },
      "outputs": [],
      "source": [
        "import numpy as np\n",
        "from matplotlib import pyplot as plt\n",
        "import tensorflow as tf\n",
        "from tensorflow import keras\n",
        "import glob\n",
        "import os\n",
        "import matplotlib.figure\n",
        "from sklearn.model_selection import train_test_split\n",
        "import pandas as pd\n",
        "\n",
        "from keras import Sequential\n",
        "from tensorflow.keras.layers import Dense, Activation, Conv2D, Flatten, Dropout, MaxPooling2D, BatchNormalization, GlobalAveragePooling2D\n",
        "from tensorflow.keras.optimizers import Adam\n",
        "from tensorflow.keras.callbacks import EarlyStopping\n",
        "from tensorflow.keras.callbacks import ModelCheckpoint"
      ]
    },
    {
      "cell_type": "code",
      "execution_count": null,
      "metadata": {
        "id": "_Zm9qUbDfqQU"
      },
      "outputs": [],
      "source": [
        "# Declare Variables\n",
        "rows=4\n",
        "cols=5\n",
        "vfold_ratio=0.1, \n",
        "max_items_per_class=3000\n",
        "img_size=64\n",
        "batch_size=32\n",
        "epochs=20"
      ]
    },
    {
      "cell_type": "code",
      "source": [
        "all_files = glob.glob(os.path.join('/content/Dataset/SampleData1', '*.npy'))\n",
        "all_files.sort()\n",
        "len(all_files)"
      ],
      "metadata": {
        "colab": {
          "base_uri": "https://localhost:8080/"
        },
        "id": "K2aeDru-rppm",
        "outputId": "afe53299-a607-45d3-946c-189183c22ac1"
      },
      "execution_count": null,
      "outputs": [
        {
          "output_type": "execute_result",
          "data": {
            "text/plain": [
              "3"
            ]
          },
          "metadata": {},
          "execution_count": 5
        }
      ]
    },
    {
      "cell_type": "code",
      "source": [
        "#initialize variables \n",
        "x = np.empty([0,64,64,1])\n",
        "y = np.empty([0])\n",
        "class_names = []\n",
        "#test_label=[]\n",
        "#testx=np.empty([0,784])\n",
        "    #load each data file \n",
        "for idx, file in enumerate(all_files):\n",
        "    data = np.load(file)\n",
        "    #test = data[0:max_items_per_class, :]\n",
        "    data = data[0: max_items_per_class, :]\n",
        "    labels = np.full(data.shape[0], idx)\n",
        "    x = np.concatenate((x, data), axis=0)\n",
        "    #testx= np.concatenate((testx, test), axis=0)\n",
        "    y = np.append(y, labels)\n",
        "\n",
        "    class_name, ext = os.path.splitext(os.path.basename(file))\n",
        "    class_name=class_name.split('_')[-1].split('.')[0]\n",
        "    class_names.append(class_name)\n",
        "data = None\n",
        "labels = None\n",
        "    \n",
        "    #randomize the dataset \n",
        "permutation = np.random.permutation(y.shape[0])\n",
        "X_train = x[permutation, :]\n",
        "y = y[permutation].astype(int)\n",
        "\n",
        "X_train.shape\n"
      ],
      "metadata": {
        "colab": {
          "base_uri": "https://localhost:8080/"
        },
        "id": "v53nw7cjr779",
        "outputId": "934c1cd7-ffa1-47cc-c6d9-01aebc13753a"
      },
      "execution_count": null,
      "outputs": [
        {
          "output_type": "execute_result",
          "data": {
            "text/plain": [
              "(9000, 64, 64, 1)"
            ]
          },
          "metadata": {},
          "execution_count": 7
        }
      ]
    },
    {
      "cell_type": "code",
      "source": [
        "fig, axes = plt.subplots(rows,cols, figsize=(8,8))\n",
        "for i in list(range(0, min(len(X_train),(rows*cols)) )):    \n",
        "    #fig = matplotlib.figure.Figure()\n",
        "    a = fig.add_subplot(rows,cols,i+1)\n",
        "    a.text(10., -1.5, f'{class_names[y[i]]}')\n",
        "    imgplot = plt.imshow(X_train[i].reshape((64,64)), interpolation='nearest',cmap='Greys_r')\n",
        "    plt.xticks([])\n",
        "    plt.yticks([])"
      ],
      "metadata": {
        "colab": {
          "base_uri": "https://localhost:8080/",
          "height": 487
        },
        "id": "mUeB6754sPUs",
        "outputId": "9e0374b3-2943-497f-eb52-c402faf23610"
      },
      "execution_count": null,
      "outputs": [
        {
          "output_type": "display_data",
          "data": {
            "text/plain": [
              "<Figure size 576x576 with 40 Axes>"
            ],
            "image/png": "[encoded data removed]"
          },
          "metadata": {
            "needs_background": "light"
          }
        }
      ]
    },
    {
      "cell_type": "code",
      "source": [
        "X_train /= 255.0"
      ],
      "metadata": {
        "id": "gugTXc4FVeRg"
      },
      "execution_count": null,
      "outputs": []
    },
    {
      "cell_type": "code",
      "source": [
        "class_names"
      ],
      "metadata": {
        "colab": {
          "base_uri": "https://localhost:8080/"
        },
        "id": "ay2KfKfhbZER",
        "outputId": "f00e5588-51af-4466-8c87-625287af2415"
      },
      "execution_count": null,
      "outputs": [
        {
          "output_type": "execute_result",
          "data": {
            "text/plain": [
              "['candle', 'eyeglasses', 't-shirt']"
            ]
          },
          "metadata": {},
          "execution_count": 10
        }
      ]
    },
    {
      "cell_type": "code",
      "source": [
        "from tensorflow.keras.utils import to_categorical\n",
        "\n",
        "y = to_categorical(y, len(class_names))\n",
        "y.shape"
      ],
      "metadata": {
        "colab": {
          "base_uri": "https://localhost:8080/"
        },
        "id": "7DxzbtoFsvrl",
        "outputId": "b4b200e4-cade-43f8-9097-d3b46e85667f"
      },
      "execution_count": null,
      "outputs": [
        {
          "output_type": "execute_result",
          "data": {
            "text/plain": [
              "(9000, 3)"
            ]
          },
          "metadata": {},
          "execution_count": 11
        }
      ]
    },
    {
      "cell_type": "code",
      "source": [
        "from sklearn.model_selection import train_test_split\n",
        "X_train, X_test, y_train, y_test = train_test_split(X_train, y, test_size=0.20, random_state=0)\n",
        "\n",
        "X_train=X_train.reshape(X_train.shape[0],64,64,1)\n",
        "X_test=X_test.reshape(X_test.shape[0],64,64,1)\n",
        "print(X_train.shape)\n",
        "print(X_test.shape)\n",
        "print(y_train.shape)\n",
        "print(y_test.shape)"
      ],
      "metadata": {
        "colab": {
          "base_uri": "https://localhost:8080/"
        },
        "id": "RkqZBQxWs2I_",
        "outputId": "f722a111-a4c2-4b2e-f2fd-414f75f279e8"
      },
      "execution_count": null,
      "outputs": [
        {
          "output_type": "stream",
          "name": "stdout",
          "text": [
            "(7200, 64, 64, 1)\n",
            "(1800, 64, 64, 1)\n",
            "(7200, 3)\n",
            "(1800, 3)\n"
          ]
        }
      ]
    },
    {
      "cell_type": "code",
      "source": [
        "from keras.preprocessing.image import ImageDataGenerator\n",
        "datagen = ImageDataGenerator(\n",
        "        featurewise_center=False,  # set input mean to 0 over the dataset\n",
        "        samplewise_center=False,  # set each sample mean to 0\n",
        "        featurewise_std_normalization=False,  # divide inputs by std of the dataset\n",
        "        samplewise_std_normalization=False,  # divide each input by its std\n",
        "        zca_whitening=False,  # apply ZCA whitening\n",
        "        rotation_range = 30,  # randomly rotate images in the range (degrees, 0 to 180)\n",
        "        zoom_range = 0.2, # Randomly zoom image \n",
        "        width_shift_range=0.1,  # randomly shift images horizontally (fraction of total width)\n",
        "        height_shift_range=0.1,  # randomly shift images vertically (fraction of total height)\n",
        "        horizontal_flip = True,  # randomly flip images\n",
        "        vertical_flip=False)  # randomly flip images\n",
        "\n",
        "datagen.fit(X_train)"
      ],
      "metadata": {
        "id": "FrOQKTKMtJGo"
      },
      "execution_count": null,
      "outputs": []
    },
    {
      "cell_type": "markdown",
      "source": [
        "**MODEL**"
      ],
      "metadata": {
        "id": "n1yXfnA20rkv"
      }
    },
    {
      "cell_type": "code",
      "source": [
        "model = Sequential()\n",
        "model.add(Conv2D(128, (3, 3), padding='same', input_shape=X_train.shape[1:], activation='relu'))\n",
        "model.add(BatchNormalization(momentum = 0.8))\n",
        "model.add(Conv2D(16, (3, 3), padding='same',input_shape=X_train.shape[1:], activation='relu'))\n",
        "model.add(MaxPooling2D(pool_size=(2, 2)))\n",
        "model.add(Dropout(0.4))\n",
        "\n",
        "model.add(Conv2D(64, (3, 3), padding='same', activation= 'relu'))\n",
        "model.add(BatchNormalization(momentum = 0.8))\n",
        "model.add(Conv2D(16, (3, 3), padding='same', activation= 'relu'))\n",
        "model.add(MaxPooling2D(pool_size=(2, 2)))\n",
        "model.add(Dropout(0.4))\n",
        "\n",
        "model.add(Conv2D(32, (3, 3), padding='same', activation= 'relu'))\n",
        "model.add(BatchNormalization(momentum = 0.8))\n",
        "model.add(Conv2D(16, (3, 3), padding='same', activation= 'relu'))\n",
        "model.add(MaxPooling2D(pool_size =(2,2)))\n",
        "model.add(Dropout(0.4))\n",
        "\n",
        "model.add(Flatten())\n",
        "model.add(Dense(512, activation='relu'))\n",
        "model.add(Dropout(0.4))\n",
        "model.add(Dense(3, activation='softmax')) "
      ],
      "metadata": {
        "id": "3vfHOU5gtQ3E"
      },
      "execution_count": null,
      "outputs": []
    },
    {
      "cell_type": "code",
      "source": [
        "model.summary()"
      ],
      "metadata": {
        "colab": {
          "base_uri": "https://localhost:8080/"
        },
        "id": "TvN3fexTtgNF",
        "outputId": "61a2a215-fc2d-4d82-d0ba-28a784fb9067"
      },
      "execution_count": null,
      "outputs": [
        {
          "output_type": "stream",
          "name": "stdout",
          "text": [
            "Model: \"sequential\"\n",
            "_________________________________________________________________\n",
            " Layer (type)                Output Shape              Param #   \n",
            "=================================================================\n",
            " conv2d (Conv2D)             (None, 64, 64, 128)       1280      \n",
            "                                                                 \n",
            " batch_normalization (BatchN  (None, 64, 64, 128)      512       \n",
            " ormalization)                                                   \n",
            "                                                                 \n",
            " conv2d_1 (Conv2D)           (None, 64, 64, 16)        18448     \n",
            "                                                                 \n",
            " max_pooling2d (MaxPooling2D  (None, 32, 32, 16)       0         \n",
            " )                                                               \n",
            "                                                                 \n",
            " dropout (Dropout)           (None, 32, 32, 16)        0         \n",
            "                                                                 \n",
            " conv2d_2 (Conv2D)           (None, 32, 32, 64)        9280      \n",
            "                                                                 \n",
            " batch_normalization_1 (Batc  (None, 32, 32, 64)       256       \n",
            " hNormalization)                                                 \n",
            "                                                                 \n",
            " conv2d_3 (Conv2D)           (None, 32, 32, 16)        9232      \n",
            "                                                                 \n",
            " max_pooling2d_1 (MaxPooling  (None, 16, 16, 16)       0         \n",
            " 2D)                                                             \n",
            "                                                                 \n",
            " dropout_1 (Dropout)         (None, 16, 16, 16)        0         \n",
            "                                                                 \n",
            " conv2d_4 (Conv2D)           (None, 16, 16, 32)        4640      \n",
            "                                                                 \n",
            " batch_normalization_2 (Batc  (None, 16, 16, 32)       128       \n",
            " hNormalization)                                                 \n",
            "                                                                 \n",
            " conv2d_5 (Conv2D)           (None, 16, 16, 16)        4624      \n",
            "                                                                 \n",
            " max_pooling2d_2 (MaxPooling  (None, 8, 8, 16)         0         \n",
            " 2D)                                                             \n",
            "                                                                 \n",
            " dropout_2 (Dropout)         (None, 8, 8, 16)          0         \n",
            "                                                                 \n",
            " flatten (Flatten)           (None, 1024)              0         \n",
            "                                                                 \n",
            " dense (Dense)               (None, 512)               524800    \n",
            "                                                                 \n",
            " dropout_3 (Dropout)         (None, 512)               0         \n",
            "                                                                 \n",
            " dense_1 (Dense)             (None, 3)                 1539      \n",
            "                                                                 \n",
            "=================================================================\n",
            "Total params: 574,739\n",
            "Trainable params: 574,291\n",
            "Non-trainable params: 448\n",
            "_________________________________________________________________\n"
          ]
        }
      ]
    },
    {
      "cell_type": "code",
      "source": [
        "from tensorflow.keras.optimizers import Adam\n",
        "model.compile(optimizer=Adam(0.001),loss =\"categorical_crossentropy\", metrics=['acc'])"
      ],
      "metadata": {
        "id": "vWNLMtcUtuaV"
      },
      "execution_count": null,
      "outputs": []
    },
    {
      "cell_type": "code",
      "source": [
        "from keras.callbacks import ReduceLROnPlateau,EarlyStopping\n",
        "\n",
        "erlystop = EarlyStopping(monitor='val_acc', min_delta=0, patience=7, verbose=0,mode='max', baseline=None)\n",
        "cp_callback = ModelCheckpoint('/content/checkpoint', verbose=1, save_weights_only=True,save_freq='epoch',save_best_only=True,monitor='val_acc',mode='max')\n",
        "rlrop = ReduceLROnPlateau(monitor='val_acc', patience=3,verbose=1,mode='max')"
      ],
      "metadata": {
        "id": "d0tnUrMPuPQ4"
      },
      "execution_count": null,
      "outputs": []
    },
    {
      "cell_type": "code",
      "source": [
        "modelHistory = model.fit(X_train,\n",
        "      y_train,\n",
        "      epochs=25,\n",
        "      batch_size=batch_size,\n",
        "      #validation_split=0.3, # 1000 images = batch_size * steps\n",
        "      validation_data=(X_test,y_test),\t\n",
        "      callbacks=[cp_callback, rlrop, erlystop],\n",
        "      verbose=1)"
      ],
      "metadata": {
        "colab": {
          "base_uri": "https://localhost:8080/"
        },
        "id": "NHJH0oVYipRj",
        "outputId": "fed76799-389d-4864-bc69-66814ef80752"
      },
      "execution_count": null,
      "outputs": [
        {
          "output_type": "stream",
          "name": "stdout",
          "text": [
            "Epoch 1/25\n",
            "223/225 [============================>.] - ETA: 0s - loss: 0.3792 - acc: 0.8862\n",
            "Epoch 1: val_acc improved from -inf to 0.95944, saving model to /content/checkpoint\n",
            "225/225 [==============================] - 14s 22ms/step - loss: 0.3777 - acc: 0.8864 - val_loss: 0.1455 - val_acc: 0.9594 - lr: 0.0010\n",
            "Epoch 2/25\n",
            "223/225 [============================>.] - ETA: 0s - loss: 0.1474 - acc: 0.9512\n",
            "Epoch 2: val_acc improved from 0.95944 to 0.96167, saving model to /content/checkpoint\n",
            "225/225 [==============================] - 5s 21ms/step - loss: 0.1482 - acc: 0.9513 - val_loss: 0.1078 - val_acc: 0.9617 - lr: 0.0010\n",
            "Epoch 3/25\n",
            "224/225 [============================>.] - ETA: 0s - loss: 0.1155 - acc: 0.9637\n",
            "Epoch 3: val_acc improved from 0.96167 to 0.97667, saving model to /content/checkpoint\n",
            "225/225 [==============================] - 5s 20ms/step - loss: 0.1155 - acc: 0.9636 - val_loss: 0.0677 - val_acc: 0.9767 - lr: 0.0010\n",
            "Epoch 4/25\n",
            "223/225 [============================>.] - ETA: 0s - loss: 0.0853 - acc: 0.9720\n",
            "Epoch 4: val_acc improved from 0.97667 to 0.98222, saving model to /content/checkpoint\n",
            "225/225 [==============================] - 4s 19ms/step - loss: 0.0852 - acc: 0.9721 - val_loss: 0.0572 - val_acc: 0.9822 - lr: 0.0010\n",
            "Epoch 5/25\n",
            "223/225 [============================>.] - ETA: 0s - loss: 0.0772 - acc: 0.9739\n",
            "Epoch 5: val_acc did not improve from 0.98222\n",
            "225/225 [==============================] - 4s 19ms/step - loss: 0.0775 - acc: 0.9736 - val_loss: 0.0630 - val_acc: 0.9783 - lr: 0.0010\n",
            "Epoch 6/25\n",
            "223/225 [============================>.] - ETA: 0s - loss: 0.0780 - acc: 0.9756\n",
            "Epoch 6: val_acc improved from 0.98222 to 0.98556, saving model to /content/checkpoint\n",
            "225/225 [==============================] - 4s 19ms/step - loss: 0.0778 - acc: 0.9754 - val_loss: 0.0425 - val_acc: 0.9856 - lr: 0.0010\n",
            "Epoch 7/25\n",
            "225/225 [==============================] - ETA: 0s - loss: 0.0669 - acc: 0.9787\n",
            "Epoch 7: val_acc improved from 0.98556 to 0.98611, saving model to /content/checkpoint\n",
            "225/225 [==============================] - 5s 22ms/step - loss: 0.0669 - acc: 0.9787 - val_loss: 0.0422 - val_acc: 0.9861 - lr: 0.0010\n",
            "Epoch 8/25\n",
            "223/225 [============================>.] - ETA: 0s - loss: 0.0680 - acc: 0.9790\n",
            "Epoch 8: val_acc did not improve from 0.98611\n",
            "225/225 [==============================] - 5s 20ms/step - loss: 0.0694 - acc: 0.9787 - val_loss: 0.0539 - val_acc: 0.9800 - lr: 0.0010\n",
            "Epoch 9/25\n",
            "223/225 [============================>.] - ETA: 0s - loss: 0.0559 - acc: 0.9814\n",
            "Epoch 9: val_acc improved from 0.98611 to 0.98722, saving model to /content/checkpoint\n",
            "225/225 [==============================] - 5s 21ms/step - loss: 0.0558 - acc: 0.9814 - val_loss: 0.0380 - val_acc: 0.9872 - lr: 0.0010\n",
            "Epoch 10/25\n",
            "223/225 [============================>.] - ETA: 0s - loss: 0.0454 - acc: 0.9853\n",
            "Epoch 10: val_acc did not improve from 0.98722\n",
            "225/225 [==============================] - 4s 19ms/step - loss: 0.0452 - acc: 0.9853 - val_loss: 0.0363 - val_acc: 0.9861 - lr: 0.0010\n",
            "Epoch 11/25\n",
            "223/225 [============================>.] - ETA: 0s - loss: 0.0411 - acc: 0.9865\n",
            "Epoch 11: val_acc did not improve from 0.98722\n",
            "225/225 [==============================] - 4s 19ms/step - loss: 0.0408 - acc: 0.9867 - val_loss: 0.0424 - val_acc: 0.9839 - lr: 0.0010\n",
            "Epoch 12/25\n",
            "223/225 [============================>.] - ETA: 0s - loss: 0.0455 - acc: 0.9849\n",
            "Epoch 12: val_acc did not improve from 0.98722\n",
            "\n",
            "Epoch 12: ReduceLROnPlateau reducing learning rate to 0.00010000000474974513.\n",
            "225/225 [==============================] - 5s 20ms/step - loss: 0.0452 - acc: 0.9850 - val_loss: 0.0487 - val_acc: 0.9833 - lr: 0.0010\n",
            "Epoch 13/25\n",
            "223/225 [============================>.] - ETA: 0s - loss: 0.0300 - acc: 0.9898\n",
            "Epoch 13: val_acc improved from 0.98722 to 0.99000, saving model to /content/checkpoint\n",
            "225/225 [==============================] - 5s 21ms/step - loss: 0.0301 - acc: 0.9896 - val_loss: 0.0315 - val_acc: 0.9900 - lr: 1.0000e-04\n",
            "Epoch 14/25\n",
            "223/225 [============================>.] - ETA: 0s - loss: 0.0302 - acc: 0.9889\n",
            "Epoch 14: val_acc did not improve from 0.99000\n",
            "225/225 [==============================] - 5s 20ms/step - loss: 0.0302 - acc: 0.9889 - val_loss: 0.0302 - val_acc: 0.9900 - lr: 1.0000e-04\n",
            "Epoch 15/25\n",
            "223/225 [============================>.] - ETA: 0s - loss: 0.0248 - acc: 0.9922\n",
            "Epoch 15: val_acc improved from 0.99000 to 0.99111, saving model to /content/checkpoint\n",
            "225/225 [==============================] - 4s 19ms/step - loss: 0.0246 - acc: 0.9922 - val_loss: 0.0298 - val_acc: 0.9911 - lr: 1.0000e-04\n",
            "Epoch 16/25\n",
            "223/225 [============================>.] - ETA: 0s - loss: 0.0244 - acc: 0.9906\n",
            "Epoch 16: val_acc did not improve from 0.99111\n",
            "225/225 [==============================] - 5s 20ms/step - loss: 0.0242 - acc: 0.9907 - val_loss: 0.0294 - val_acc: 0.9911 - lr: 1.0000e-04\n",
            "Epoch 17/25\n",
            "223/225 [============================>.] - ETA: 0s - loss: 0.0213 - acc: 0.9916\n",
            "Epoch 17: val_acc did not improve from 0.99111\n",
            "225/225 [==============================] - 5s 20ms/step - loss: 0.0220 - acc: 0.9914 - val_loss: 0.0274 - val_acc: 0.9911 - lr: 1.0000e-04\n",
            "Epoch 18/25\n",
            "223/225 [============================>.] - ETA: 0s - loss: 0.0235 - acc: 0.9929\n",
            "Epoch 18: val_acc improved from 0.99111 to 0.99167, saving model to /content/checkpoint\n",
            "225/225 [==============================] - 4s 19ms/step - loss: 0.0244 - acc: 0.9925 - val_loss: 0.0272 - val_acc: 0.9917 - lr: 1.0000e-04\n",
            "Epoch 19/25\n",
            "223/225 [============================>.] - ETA: 0s - loss: 0.0227 - acc: 0.9913\n",
            "Epoch 19: val_acc did not improve from 0.99167\n",
            "225/225 [==============================] - 4s 19ms/step - loss: 0.0227 - acc: 0.9912 - val_loss: 0.0272 - val_acc: 0.9906 - lr: 1.0000e-04\n",
            "Epoch 20/25\n",
            "224/225 [============================>.] - ETA: 0s - loss: 0.0238 - acc: 0.9914\n",
            "Epoch 20: val_acc did not improve from 0.99167\n",
            "225/225 [==============================] - 5s 20ms/step - loss: 0.0238 - acc: 0.9914 - val_loss: 0.0260 - val_acc: 0.9917 - lr: 1.0000e-04\n",
            "Epoch 21/25\n",
            "223/225 [============================>.] - ETA: 0s - loss: 0.0182 - acc: 0.9927\n",
            "Epoch 21: val_acc did not improve from 0.99167\n",
            "\n",
            "Epoch 21: ReduceLROnPlateau reducing learning rate to 1.0000000474974514e-05.\n",
            "225/225 [==============================] - 5s 20ms/step - loss: 0.0180 - acc: 0.9928 - val_loss: 0.0266 - val_acc: 0.9917 - lr: 1.0000e-04\n",
            "Epoch 22/25\n",
            "223/225 [============================>.] - ETA: 0s - loss: 0.0192 - acc: 0.9930\n",
            "Epoch 22: val_acc improved from 0.99167 to 0.99222, saving model to /content/checkpoint\n",
            "225/225 [==============================] - 5s 21ms/step - loss: 0.0191 - acc: 0.9931 - val_loss: 0.0263 - val_acc: 0.9922 - lr: 1.0000e-05\n",
            "Epoch 23/25\n",
            "224/225 [============================>.] - ETA: 0s - loss: 0.0175 - acc: 0.9939\n",
            "Epoch 23: val_acc did not improve from 0.99222\n",
            "225/225 [==============================] - 4s 19ms/step - loss: 0.0177 - acc: 0.9937 - val_loss: 0.0262 - val_acc: 0.9922 - lr: 1.0000e-05\n",
            "Epoch 24/25\n",
            "223/225 [============================>.] - ETA: 0s - loss: 0.0177 - acc: 0.9938\n",
            "Epoch 24: val_acc did not improve from 0.99222\n",
            "225/225 [==============================] - 4s 20ms/step - loss: 0.0176 - acc: 0.9939 - val_loss: 0.0269 - val_acc: 0.9917 - lr: 1.0000e-05\n",
            "Epoch 25/25\n",
            "223/225 [============================>.] - ETA: 0s - loss: 0.0167 - acc: 0.9943\n",
            "Epoch 25: val_acc did not improve from 0.99222\n",
            "\n",
            "Epoch 25: ReduceLROnPlateau reducing learning rate to 1.0000000656873453e-06.\n",
            "225/225 [==============================] - 4s 19ms/step - loss: 0.0165 - acc: 0.9943 - val_loss: 0.0264 - val_acc: 0.9917 - lr: 1.0000e-05\n"
          ]
        }
      ]
    },
    {
      "cell_type": "code",
      "source": [
        "model.evaluate(X_test, y_test)"
      ],
      "metadata": {
        "colab": {
          "base_uri": "https://localhost:8080/"
        },
        "id": "6huGnibK-LvN",
        "outputId": "94ebd794-e7d1-4c39-fcdf-16e42f01e72f"
      },
      "execution_count": null,
      "outputs": [
        {
          "output_type": "stream",
          "name": "stdout",
          "text": [
            "57/57 [==============================] - 0s 8ms/step - loss: 0.0264 - acc: 0.9917\n"
          ]
        },
        {
          "output_type": "execute_result",
          "data": {
            "text/plain": [
              "[0.026397917419672012, 0.9916666746139526]"
            ]
          },
          "metadata": {},
          "execution_count": 19
        }
      ]
    },
    {
      "cell_type": "code",
      "source": [
        "print(modelHistory.history.keys())"
      ],
      "metadata": {
        "colab": {
          "base_uri": "https://localhost:8080/"
        },
        "id": "SIq-N5yWjfgn",
        "outputId": "c7eb48b9-c4a9-438d-ec94-42ce0c83e3f4"
      },
      "execution_count": null,
      "outputs": [
        {
          "output_type": "stream",
          "name": "stdout",
          "text": [
            "dict_keys(['loss', 'acc', 'val_loss', 'val_acc', 'lr'])\n"
          ]
        }
      ]
    },
    {
      "cell_type": "code",
      "source": [
        "plt.plot(modelHistory.history['acc'])\n",
        "plt.plot(modelHistory.history['val_acc'])\n",
        "plt.title('Model Accuracy')\n",
        "plt.ylabel('Accuracy')\n",
        "plt.xlabel('Epoch')\n",
        "plt.legend(['Train', 'Test'], loc='upper left')\n",
        "plt.show()"
      ],
      "metadata": {
        "colab": {
          "base_uri": "https://localhost:8080/",
          "height": 295
        },
        "id": "kRcJhXLAjq5S",
        "outputId": "a2f88d63-6f0e-47ef-bace-ad2d20fab10d"
      },
      "execution_count": null,
      "outputs": [
        {
          "output_type": "display_data",
          "data": {
            "text/plain": [
              "<Figure size 432x288 with 1 Axes>"
            ],
            "image/png": "[encoded data removed]"
          },
          "metadata": {
            "needs_background": "light"
          }
        }
      ]
    },
    {
      "cell_type": "code",
      "source": [
        "plt.plot(modelHistory.history['loss'])\n",
        "plt.plot(modelHistory.history['val_loss'])\n",
        "plt.title('Model Loss')\n",
        "plt.ylabel('Loss')\n",
        "plt.xlabel('Epoch')\n",
        "plt.legend(['Train', 'Test'], loc='upper left')\n",
        "plt.show()"
      ],
      "metadata": {
        "colab": {
          "base_uri": "https://localhost:8080/",
          "height": 295
        },
        "id": "Nf1YNFGrlMsa",
        "outputId": "f833a5e7-acd4-472b-cf0d-84e481587f5f"
      },
      "execution_count": null,
      "outputs": [
        {
          "output_type": "display_data",
          "data": {
            "text/plain": [
              "<Figure size 432x288 with 1 Axes>"
            ],
            "image/png": "[encoded data removed]"
          },
          "metadata": {
            "needs_background": "light"
          }
        }
      ]
    },
    {
      "cell_type": "code",
      "source": [
        "plt.plot(modelHistory.history['lr'])\n",
        "plt.title('Model Learning rate')\n",
        "plt.ylabel('Rate')\n",
        "plt.xlabel('Epoch')\n",
        "plt.show()"
      ],
      "metadata": {
        "colab": {
          "base_uri": "https://localhost:8080/",
          "height": 295
        },
        "id": "4pRZ_91Xm8jg",
        "outputId": "841a805b-2a0b-435c-f1a7-5791316d380b"
      },
      "execution_count": null,
      "outputs": [
        {
          "output_type": "display_data",
          "data": {
            "text/plain": [
              "<Figure size 432x288 with 1 Axes>"
            ],
            "image/png": "[encoded data removed]"
          },
          "metadata": {
            "needs_background": "light"
          }
        }
      ]
    },
    {
      "cell_type": "code",
      "source": [
        "model.predict(X_test)"
      ],
      "metadata": {
        "colab": {
          "base_uri": "https://localhost:8080/"
        },
        "id": "o4iW8j2j3mjL",
        "outputId": "72b9a6a2-2f89-4633-9543-1c0d340c2464"
      },
      "execution_count": null,
      "outputs": [
        {
          "output_type": "stream",
          "name": "stdout",
          "text": [
            "57/57 [==============================] - 0s 6ms/step\n"
          ]
        },
        {
          "output_type": "execute_result",
          "data": {
            "text/plain": [
              "array([[1.0098071e-03, 9.2630881e-01, 7.2681338e-02],\n",
              "       [9.9995291e-01, 1.9270357e-05, 2.7826325e-05],\n",
              "       [9.9999762e-01, 5.8301697e-07, 1.8146181e-06],\n",
              "       ...,\n",
              "       [9.9999881e-01, 9.0239621e-07, 1.8743296e-07],\n",
              "       [2.8133293e-04, 3.3872759e-03, 9.9633139e-01],\n",
              "       [9.9687009e-07, 4.5641824e-05, 9.9995339e-01]], dtype=float32)"
            ]
          },
          "metadata": {},
          "execution_count": 54
        }
      ]
    },
    {
      "cell_type": "code",
      "source": [
        "model.save('doodle_best.h5')"
      ],
      "metadata": {
        "id": "Blwu8DldVUkF"
      },
      "execution_count": null,
      "outputs": []
    }
  ],
  "metadata": {
    "colab": {
      "provenance": []
    },
    "kernelspec": {
      "display_name": "Python 3",
      "name": "python3"
    },
    "language_info": {
      "name": "python"
    },
    "accelerator": "GPU",
    "gpuClass": "standard"
  },
  "nbformat": 4,
  "nbformat_minor": 0
}