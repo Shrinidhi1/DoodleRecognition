{
  "nbformat": 4,
  "nbformat_minor": 0,
  "metadata": {
    "colab": {
      "provenance": []
    },
    "kernelspec": {
      "name": "python3",
      "display_name": "Python 3"
    },
    "language_info": {
      "name": "python"
    },
    "accelerator": "GPU",
    "gpuClass": "standard"
  },
  "cells": [
    {
      "cell_type": "code",
      "source": [
        "from google.colab import drive\n",
        "drive.mount('/gdrive')\n",
        "!ln -s \"/gdrive/My Drive/Doodle Recognition/Dataset\" \"/content/Dataset\""
      ],
      "metadata": {
        "id": "ff96-_ydmrxL",
        "colab": {
          "base_uri": "https://localhost:8080/"
        },
        "outputId": "55472258-c7cd-4a6b-bcfd-bc7011c7e041"
      },
      "execution_count": null,
      "outputs": [
        {
          "output_type": "stream",
          "name": "stdout",
          "text": [
            "Mounted at /gdrive\n"
          ]
        }
      ]
    },
    {
      "cell_type": "code",
      "source": [
        "# from google.colab import drive\n",
        "# drive.flush_and_unmount()"
      ],
      "metadata": {
        "id": "4RKFclk7mvzd"
      },
      "execution_count": null,
      "outputs": []
    },
    {
      "cell_type": "code",
      "execution_count": null,
      "metadata": {
        "id": "4dRA5dOKmN9t"
      },
      "outputs": [],
      "source": [
        "import numpy as np\n",
        "from matplotlib import pyplot as plt\n",
        "import tensorflow as tf\n",
        "from tensorflow import keras\n",
        "import glob\n",
        "import os\n",
        "import matplotlib.figure\n",
        "from sklearn.model_selection import train_test_split\n",
        "import pandas as pd\n",
        "\n",
        "import time\n",
        "import pydot\n",
        "from typing import List, Tuple\n",
        "from matplotlib.pyplot import imshow\n",
        "%matplotlib inline\n",
        "import PIL.Image\n",
        "import pathlib\n",
        "import shutil\n",
        "\n",
        "from tensorflow.keras.preprocessing import image\n",
        "from tensorflow.keras import layers\n",
        "from tensorflow.keras.layers import Input, Add, Dense, Activation, ZeroPadding2D, BatchNormalization, Flatten, Conv2D, AveragePooling2D, MaxPooling2D, GlobalMaxPooling2D\n",
        "from tensorflow.keras.initializers import glorot_uniform\n",
        "from tensorflow.keras.models import Model, load_model\n",
        "\n",
        "from tensorflow.python.keras.utils import layer_utils\n",
        "from tensorflow.keras.utils import model_to_dot\n",
        "from tensorflow.keras.utils import plot_model\n",
        "\n",
        "from tensorflow.keras.applications.imagenet_utils import preprocess_input\n",
        "\n",
        "from IPython.display import SVG\n",
        "\n",
        "import scipy.misc\n",
        "\n",
        "import tensorflow.keras.backend as K\n",
        "K.set_image_data_format('channels_last') # can be channels_first or channels_last. \n",
        "K.set_learning_phase(1) # 1 stands for learning phase\n",
        "\n",
        "from tensorflow.keras.optimizers import Adam\n",
        "from tensorflow.keras.callbacks import EarlyStopping\n",
        "from tensorflow.keras.callbacks import ModelCheckpoint"
      ]
    },
    {
      "cell_type": "code",
      "source": [
        "# Declare Variables\n",
        "rows=4\n",
        "cols=5\n",
        "vfold_ratio=0.1, \n",
        "max_items_per_class=3000\n",
        "img_size=64"
      ],
      "metadata": {
        "id": "kY0ax0RWmWDN"
      },
      "execution_count": null,
      "outputs": []
    },
    {
      "cell_type": "code",
      "source": [
        "all_files = glob.glob(os.path.join('/content/Dataset/SampleData1', '*.npy'))\n",
        "all_files.sort()\n",
        "len(all_files)"
      ],
      "metadata": {
        "id": "WyCIW14NmX3j",
        "colab": {
          "base_uri": "https://localhost:8080/"
        },
        "outputId": "6645a95a-411d-4100-9352-a9945d4d90d4"
      },
      "execution_count": null,
      "outputs": [
        {
          "output_type": "execute_result",
          "data": {
            "text/plain": [
              "3"
            ]
          },
          "metadata": {},
          "execution_count": 29
        }
      ]
    },
    {
      "cell_type": "code",
      "source": [
        "#initialize variables \n",
        "x = np.empty([0,64,64,1])\n",
        "y = np.empty([0])\n",
        "class_names = []\n",
        "#test_label=[]\n",
        "#testx=np.empty([0,784])\n",
        "    #load each data file \n",
        "for idx, file in enumerate(all_files):\n",
        "    data = np.load(file)\n",
        "    #test = data[0:max_items_per_class, :]\n",
        "    data = data[0: max_items_per_class, :]\n",
        "    labels = np.full(data.shape[0], idx)\n",
        "    x = np.concatenate((x, data), axis=0)\n",
        "    #testx= np.concatenate((testx, test), axis=0)\n",
        "    y = np.append(y, labels)\n",
        "\n",
        "    class_name, ext = os.path.splitext(os.path.basename(file))\n",
        "    class_name=class_name.split('_')[-1].split('.')[0]\n",
        "    class_names.append(class_name)\n",
        "data = None\n",
        "labels = None\n",
        "    \n",
        "    #randomize the dataset \n",
        "permutation = np.random.permutation(y.shape[0])\n",
        "X_train = x[permutation, :]\n",
        "y = y[permutation].astype(int)\n",
        "\n",
        "X_train.shape"
      ],
      "metadata": {
        "id": "KP5vpPp1maAU",
        "colab": {
          "base_uri": "https://localhost:8080/"
        },
        "outputId": "e6e20573-9850-4ed2-d8f7-c7c40bcac370"
      },
      "execution_count": null,
      "outputs": [
        {
          "output_type": "execute_result",
          "data": {
            "text/plain": [
              "(9000, 64, 64, 1)"
            ]
          },
          "metadata": {},
          "execution_count": 30
        }
      ]
    },
    {
      "cell_type": "code",
      "source": [
        "X_train /= 255.0\n",
        "fig, axes = plt.subplots(rows,cols, figsize=(8,8))\n",
        "for i in list(range(0, min(len(X_train),(rows*cols)) )):    \n",
        "    #fig = matplotlib.figure.Figure()\n",
        "    a = fig.add_subplot(rows,cols,i+1)\n",
        "    a.text(10., -1.5, f'{class_names[y[i]]}')\n",
        "    imgplot = plt.imshow(X_train[i].reshape((64,64)), interpolation='nearest',cmap='Greys_r')\n",
        "    plt.xticks([])\n",
        "    plt.yticks([])"
      ],
      "metadata": {
        "colab": {
          "base_uri": "https://localhost:8080/",
          "height": 487
        },
        "id": "DXY_4cBBVOHM",
        "outputId": "bcf9e600-0009-443e-d761-524e22121363"
      },
      "execution_count": null,
      "outputs": [
        {
          "output_type": "display_data",
          "data": {
            "text/plain": [
              "<Figure size 576x576 with 40 Axes>"
            ],
            "image/png": "[encoded data removed]"
          },
          "metadata": {
            "needs_background": "light"
          }
        }
      ]
    },
    {
      "cell_type": "code",
      "source": [
        "X_train /= 255.0"
      ],
      "metadata": {
        "id": "k2jSzDlGmaCn"
      },
      "execution_count": null,
      "outputs": []
    },
    {
      "cell_type": "code",
      "source": [
        "class_names"
      ],
      "metadata": {
        "colab": {
          "base_uri": "https://localhost:8080/"
        },
        "id": "OYPzojbGOLn4",
        "outputId": "7eb1c57e-225e-42d1-c12f-6a8d13969ea1"
      },
      "execution_count": null,
      "outputs": [
        {
          "output_type": "execute_result",
          "data": {
            "text/plain": [
              "['candle', 'eyeglasses', 't-shirt']"
            ]
          },
          "metadata": {},
          "execution_count": 33
        }
      ]
    },
    {
      "cell_type": "code",
      "source": [
        "from tensorflow.keras.utils import to_categorical\n",
        "\n",
        "y = to_categorical(y, len(class_names))\n",
        "y.shape"
      ],
      "metadata": {
        "id": "-V8HrFEFmaEx",
        "colab": {
          "base_uri": "https://localhost:8080/"
        },
        "outputId": "36dfbaa2-7bca-4504-9684-769dfc0ab489"
      },
      "execution_count": null,
      "outputs": [
        {
          "output_type": "execute_result",
          "data": {
            "text/plain": [
              "(9000, 3)"
            ]
          },
          "metadata": {},
          "execution_count": 34
        }
      ]
    },
    {
      "cell_type": "code",
      "source": [
        "from sklearn.model_selection import train_test_split\n",
        "X_train, X_test, y_train, y_test = train_test_split(X_train, y, test_size=0.20, random_state=0)\n",
        "\n",
        "X_train=X_train.reshape(X_train.shape[0],64,64,1)\n",
        "X_test=X_test.reshape(X_test.shape[0],64,64,1)\n",
        "print(X_train.shape)\n",
        "print(X_test.shape)\n",
        "print(y_train.shape)\n",
        "print(y_test.shape)"
      ],
      "metadata": {
        "id": "fWwA3Q4zmgJo",
        "colab": {
          "base_uri": "https://localhost:8080/"
        },
        "outputId": "47484d7d-336d-4fde-f699-6d880b879f91"
      },
      "execution_count": null,
      "outputs": [
        {
          "output_type": "stream",
          "name": "stdout",
          "text": [
            "(7200, 64, 64, 1)\n",
            "(1800, 64, 64, 1)\n",
            "(7200, 3)\n",
            "(1800, 3)\n"
          ]
        }
      ]
    },
    {
      "cell_type": "code",
      "source": [
        "from keras.preprocessing.image import ImageDataGenerator\n",
        "datagen = ImageDataGenerator(\n",
        "        featurewise_center=False,  # set input mean to 0 over the dataset\n",
        "        samplewise_center=False,  # set each sample mean to 0\n",
        "        featurewise_std_normalization=False,  # divide inputs by std of the dataset\n",
        "        samplewise_std_normalization=False,  # divide each input by its std\n",
        "        zca_whitening=False,  # apply ZCA whitening\n",
        "        rotation_range = 30,  # randomly rotate images in the range (degrees, 0 to 180)\n",
        "        zoom_range = 0.2, # Randomly zoom image \n",
        "        width_shift_range=0.1,  # randomly shift images horizontally (fraction of total width)\n",
        "        height_shift_range=0.1,  # randomly shift images vertically (fraction of total height)\n",
        "        horizontal_flip = True,  # randomly flip images\n",
        "        vertical_flip=False)  # randomly flip images\n",
        "\n",
        "datagen.fit(X_train)"
      ],
      "metadata": {
        "id": "_qqFdHoEmgMz"
      },
      "execution_count": null,
      "outputs": []
    },
    {
      "cell_type": "code",
      "source": [
        "def identity_block(X: tf.Tensor, level: int, block: int, filters: List[int]) -> tf.Tensor:\n",
        "\n",
        "    # layers will be called conv{level}_iden{block}_{convlayer_number_within_block}'\n",
        "    conv_name = f'conv{level}_{block}' + '_{layer}_{type}'\n",
        "\n",
        "    # unpack number of filters to be used for each conv layer\n",
        "    f1, f2, f3 = filters\n",
        "\n",
        "    # the shortcut branch of the identity block\n",
        "    # takes the value of the block input\n",
        "    X_shortcut = X\n",
        "\n",
        "    # first convolutional layer (plus batch norm & relu activation, of course)\n",
        "    X = Conv2D(filters=f1, kernel_size=(1, 1), strides=(1, 1),\n",
        "               padding='valid', name=conv_name.format(layer=1, type='conv'),\n",
        "               kernel_initializer=glorot_uniform(seed=0))(X)\n",
        "    X = BatchNormalization(axis=3, name=conv_name.format(layer=1, type='bn'))(X)\n",
        "    X = Activation('relu', name=conv_name.format(layer=1, type='relu'))(X)\n",
        "\n",
        "    # second convolutional layer\n",
        "    X = Conv2D(filters=f2, kernel_size=(3, 3), strides=(1, 1),\n",
        "               padding='same', name=conv_name.format(layer=2, type='conv'),\n",
        "               kernel_initializer=glorot_uniform(seed=0))(X)\n",
        "    X = BatchNormalization(axis=3, name=conv_name.format(layer=2, type='bn'))(X)\n",
        "    X = Activation('relu')(X)\n",
        "\n",
        "    # third convolutional layer\n",
        "    X = Conv2D(filters=f3, kernel_size=(1, 1), strides=(1, 1),\n",
        "               padding='valid', name=conv_name.format(layer=3, type='conv'),\n",
        "               kernel_initializer=glorot_uniform(seed=0))(X)\n",
        "    X = BatchNormalization(axis=3, name=conv_name.format(layer=3, type='bn'))(X)\n",
        "\n",
        "    # add shortcut branch to main path\n",
        "    X = Add()([X, X_shortcut])\n",
        "\n",
        "    # relu activation at the end of the block\n",
        "    X = Activation('relu', name=conv_name.format(layer=3, type='relu'))(X)\n",
        "\n",
        "    return X"
      ],
      "metadata": {
        "id": "-frrs6MzmaHF"
      },
      "execution_count": null,
      "outputs": []
    },
    {
      "cell_type": "code",
      "source": [
        "def convolutional_block(X: tf.Tensor, level: int, block: int, filters: List[int], s: Tuple[int,int,int]=(2, 2)) -> tf.Tensor:\n",
        "\n",
        "    # layers will be called conv{level}_{block}_{convlayer_number_within_block}'\n",
        "    conv_name = f'conv{level}_{block}' + '_{layer}_{type}'\n",
        "\n",
        "    # unpack number of filters to be used for each conv layer\n",
        "    f1, f2, f3 = filters\n",
        "\n",
        "    # the shortcut branch of the convolutional block\n",
        "    X_shortcut = X\n",
        "\n",
        "    # first convolutional layer\n",
        "    X = Conv2D(filters=f1, kernel_size=(1, 1), strides=s, padding='valid',\n",
        "               name=conv_name.format(layer=1, type='conv'),\n",
        "               kernel_initializer=glorot_uniform(seed=0))(X)\n",
        "    X = BatchNormalization(axis=3, name=conv_name.format(layer=1, type='bn'))(X)\n",
        "    X = Activation('relu', name=conv_name.format(layer=1, type='relu'))(X)\n",
        "\n",
        "    # second convolutional layer\n",
        "    X = Conv2D(filters=f2, kernel_size=(3, 3), strides=(1, 1), padding='same',\n",
        "               name=conv_name.format(layer=2, type='conv'),\n",
        "               kernel_initializer=glorot_uniform(seed=0))(X)\n",
        "    X = BatchNormalization(axis=3, name=conv_name.format(layer=2, type='bn'))(X)\n",
        "    X = Activation('relu', name=conv_name.format(layer=2, type='relu'))(X)\n",
        "\n",
        "    # third convolutional layer\n",
        "    X = Conv2D(filters=f3, kernel_size=(1, 1), strides=(1, 1), padding='valid',\n",
        "               name=conv_name.format(layer=3, type='conv'),\n",
        "               kernel_initializer=glorot_uniform(seed=0))(X)\n",
        "    X = BatchNormalization(axis=3, name=conv_name.format(layer=3, type='bn'))(X)\n",
        "\n",
        "    # shortcut path\n",
        "    X_shortcut = Conv2D(filters=f3, kernel_size=(1, 1), strides=s, padding='valid',\n",
        "                        name=conv_name.format(layer='short', type='conv'),\n",
        "                        kernel_initializer=glorot_uniform(seed=0))(X_shortcut)\n",
        "    X_shortcut = BatchNormalization(axis=3, name=conv_name.format(layer='short', type='bn'))(X_shortcut)\n",
        "\n",
        "    # add shortcut branch to main path\n",
        "    X = Add()([X, X_shortcut])\n",
        "\n",
        "    # nonlinearity\n",
        "    X = Activation('relu', name=conv_name.format(layer=3, type='relu'))(X)\n",
        "\n",
        "    return X"
      ],
      "metadata": {
        "id": "h8ghFLkAygGq"
      },
      "execution_count": null,
      "outputs": []
    },
    {
      "cell_type": "code",
      "source": [
        "def ResNet50(input_size: Tuple[int,int,int], classes: int) -> Model:\n",
        "\n",
        "    # tensor placeholder for the model's input\n",
        "    X_input = Input(input_size)\n",
        "\n",
        "    ### Level 1 ###\n",
        "\n",
        "    # padding\n",
        "    X = ZeroPadding2D((3, 3))(X_input)\n",
        "\n",
        "    # convolutional layer, followed by batch normalization and relu activation\n",
        "    X = Conv2D(filters=64, kernel_size=(7, 7), strides=(2, 2),\n",
        "               name='conv1_1_1_conv',\n",
        "               kernel_initializer=glorot_uniform(seed=0))(X)\n",
        "    X = BatchNormalization(axis=3, name='conv1_1_1_nb')(X)\n",
        "    X = Activation('relu')(X)\n",
        "\n",
        "    ### Level 2 ###\n",
        "\n",
        "    # max pooling layer to halve the size coming from the previous layer\n",
        "    X = MaxPooling2D((3, 3), strides=(2, 2))(X)\n",
        "\n",
        "    # 1x convolutional block\n",
        "    X = convolutional_block(X, level=2, block=1, filters=[64, 64, 256], s=(1, 1))\n",
        "\n",
        "    # 2x identity blocks\n",
        "    X = identity_block(X, level=2, block=2, filters=[64, 64, 256])\n",
        "    X = identity_block(X, level=2, block=3, filters=[64, 64, 256])\n",
        "\n",
        "    ### Level 3 ###\n",
        "\n",
        "    # 1x convolutional block\n",
        "    X = convolutional_block(X, level=3, block=1, filters=[128, 128, 512], s=(2, 2))\n",
        "\n",
        "    # 3x identity blocks\n",
        "    X = identity_block(X, level=3, block=2, filters=[128, 128, 512])\n",
        "    X = identity_block(X, level=3, block=3, filters=[128, 128, 512])\n",
        "    X = identity_block(X, level=3, block=4, filters=[128, 128, 512])\n",
        "\n",
        "    ### Level 4 ###\n",
        "    # 1x convolutional block\n",
        "    X = convolutional_block(X, level=4, block=1, filters=[256, 256, 1024], s=(2, 2))\n",
        "    # 5x identity blocks\n",
        "    X = identity_block(X, level=4, block=2, filters=[256, 256, 1024])\n",
        "    X = identity_block(X, level=4, block=3, filters=[256, 256, 1024])\n",
        "    X = identity_block(X, level=4, block=4, filters=[256, 256, 1024])\n",
        "    X = identity_block(X, level=4, block=5, filters=[256, 256, 1024])\n",
        "    X = identity_block(X, level=4, block=6, filters=[256, 256, 1024])\n",
        "\n",
        "    ### Level 5 ###\n",
        "    # 1x convolutional block\n",
        "    X = convolutional_block(X, level=5, block=1, filters=[512, 512, 2048], s=(2, 2))\n",
        "    # 2x identity blocks\n",
        "    X = identity_block(X, level=5, block=2, filters=[512, 512, 2048])\n",
        "    X = identity_block(X, level=5, block=3, filters=[512, 512, 2048])\n",
        "\n",
        "    # Pooling layers\n",
        "    X = AveragePooling2D(pool_size=(2, 2), name='avg_pool')(X)\n",
        "\n",
        "    # Output layer\n",
        "    X = Flatten()(X)\n",
        "    X = Dense(classes, activation='softmax', name='fc_' + str(classes),\n",
        "              kernel_initializer=glorot_uniform(seed=0))(X)\n",
        "\n",
        "    # Create model\n",
        "    model = Model(inputs=X_input, outputs=X, name='ResNet50')\n",
        "\n",
        "    return model"
      ],
      "metadata": {
        "id": "vUNL4N8Yykwa"
      },
      "execution_count": null,
      "outputs": []
    },
    {
      "cell_type": "code",
      "source": [
        "# set input image parameters\n",
        "image_size = (64, 64) \n",
        "channels = 1\n",
        "num_classes = 3"
      ],
      "metadata": {
        "id": "MooAcoS3yp4C"
      },
      "execution_count": null,
      "outputs": []
    },
    {
      "cell_type": "code",
      "source": [
        "model = ResNet50(input_size = (image_size[1], image_size[0], channels), classes = num_classes)"
      ],
      "metadata": {
        "id": "ZVIEulgEyxVY"
      },
      "execution_count": null,
      "outputs": []
    },
    {
      "cell_type": "code",
      "source": [
        "model.summary()"
      ],
      "metadata": {
        "colab": {
          "base_uri": "https://localhost:8080/"
        },
        "id": "z3CfP15nyzjv",
        "outputId": "3d83d161-6dca-4f3c-c639-7dc8d87e0f9c"
      },
      "execution_count": null,
      "outputs": [
        {
          "output_type": "stream",
          "name": "stdout",
          "text": [
            "Model: \"ResNet50\"\n",
            "__________________________________________________________________________________________________\n",
            " Layer (type)                   Output Shape         Param #     Connected to                     \n",
            "==================================================================================================\n",
            " input_2 (InputLayer)           [(None, 64, 64, 1)]  0           []                               \n",
            "                                                                                                  \n",
            " zero_padding2d_1 (ZeroPadding2  (None, 70, 70, 1)   0           ['input_2[0][0]']                \n",
            " D)                                                                                               \n",
            "                                                                                                  \n",
            " conv1_1_1_conv (Conv2D)        (None, 32, 32, 64)   3200        ['zero_padding2d_1[0][0]']       \n",
            "                                                                                                  \n",
            " conv1_1_1_nb (BatchNormalizati  (None, 32, 32, 64)  256         ['conv1_1_1_conv[0][0]']         \n",
            " on)                                                                                              \n",
            "                                                                                                  \n",
            " activation_13 (Activation)     (None, 32, 32, 64)   0           ['conv1_1_1_nb[0][0]']           \n",
            "                                                                                                  \n",
            " max_pooling2d_1 (MaxPooling2D)  (None, 15, 15, 64)  0           ['activation_13[0][0]']          \n",
            "                                                                                                  \n",
            " conv2_1_1_conv (Conv2D)        (None, 15, 15, 64)   4160        ['max_pooling2d_1[0][0]']        \n",
            "                                                                                                  \n",
            " conv2_1_1_bn (BatchNormalizati  (None, 15, 15, 64)  256         ['conv2_1_1_conv[0][0]']         \n",
            " on)                                                                                              \n",
            "                                                                                                  \n",
            " conv2_1_1_relu (Activation)    (None, 15, 15, 64)   0           ['conv2_1_1_bn[0][0]']           \n",
            "                                                                                                  \n",
            " conv2_1_2_conv (Conv2D)        (None, 15, 15, 64)   36928       ['conv2_1_1_relu[0][0]']         \n",
            "                                                                                                  \n",
            " conv2_1_2_bn (BatchNormalizati  (None, 15, 15, 64)  256         ['conv2_1_2_conv[0][0]']         \n",
            " on)                                                                                              \n",
            "                                                                                                  \n",
            " conv2_1_2_relu (Activation)    (None, 15, 15, 64)   0           ['conv2_1_2_bn[0][0]']           \n",
            "                                                                                                  \n",
            " conv2_1_3_conv (Conv2D)        (None, 15, 15, 256)  16640       ['conv2_1_2_relu[0][0]']         \n",
            "                                                                                                  \n",
            " conv2_1_short_conv (Conv2D)    (None, 15, 15, 256)  16640       ['max_pooling2d_1[0][0]']        \n",
            "                                                                                                  \n",
            " conv2_1_3_bn (BatchNormalizati  (None, 15, 15, 256)  1024       ['conv2_1_3_conv[0][0]']         \n",
            " on)                                                                                              \n",
            "                                                                                                  \n",
            " conv2_1_short_bn (BatchNormali  (None, 15, 15, 256)  1024       ['conv2_1_short_conv[0][0]']     \n",
            " zation)                                                                                          \n",
            "                                                                                                  \n",
            " add_16 (Add)                   (None, 15, 15, 256)  0           ['conv2_1_3_bn[0][0]',           \n",
            "                                                                  'conv2_1_short_bn[0][0]']       \n",
            "                                                                                                  \n",
            " conv2_1_3_relu (Activation)    (None, 15, 15, 256)  0           ['add_16[0][0]']                 \n",
            "                                                                                                  \n",
            " conv2_2_1_conv (Conv2D)        (None, 15, 15, 64)   16448       ['conv2_1_3_relu[0][0]']         \n",
            "                                                                                                  \n",
            " conv2_2_1_bn (BatchNormalizati  (None, 15, 15, 64)  256         ['conv2_2_1_conv[0][0]']         \n",
            " on)                                                                                              \n",
            "                                                                                                  \n",
            " conv2_2_1_relu (Activation)    (None, 15, 15, 64)   0           ['conv2_2_1_bn[0][0]']           \n",
            "                                                                                                  \n",
            " conv2_2_2_conv (Conv2D)        (None, 15, 15, 64)   36928       ['conv2_2_1_relu[0][0]']         \n",
            "                                                                                                  \n",
            " conv2_2_2_bn (BatchNormalizati  (None, 15, 15, 64)  256         ['conv2_2_2_conv[0][0]']         \n",
            " on)                                                                                              \n",
            "                                                                                                  \n",
            " activation_14 (Activation)     (None, 15, 15, 64)   0           ['conv2_2_2_bn[0][0]']           \n",
            "                                                                                                  \n",
            " conv2_2_3_conv (Conv2D)        (None, 15, 15, 256)  16640       ['activation_14[0][0]']          \n",
            "                                                                                                  \n",
            " conv2_2_3_bn (BatchNormalizati  (None, 15, 15, 256)  1024       ['conv2_2_3_conv[0][0]']         \n",
            " on)                                                                                              \n",
            "                                                                                                  \n",
            " add_17 (Add)                   (None, 15, 15, 256)  0           ['conv2_2_3_bn[0][0]',           \n",
            "                                                                  'conv2_1_3_relu[0][0]']         \n",
            "                                                                                                  \n",
            " conv2_2_3_relu (Activation)    (None, 15, 15, 256)  0           ['add_17[0][0]']                 \n",
            "                                                                                                  \n",
            " conv2_3_1_conv (Conv2D)        (None, 15, 15, 64)   16448       ['conv2_2_3_relu[0][0]']         \n",
            "                                                                                                  \n",
            " conv2_3_1_bn (BatchNormalizati  (None, 15, 15, 64)  256         ['conv2_3_1_conv[0][0]']         \n",
            " on)                                                                                              \n",
            "                                                                                                  \n",
            " conv2_3_1_relu (Activation)    (None, 15, 15, 64)   0           ['conv2_3_1_bn[0][0]']           \n",
            "                                                                                                  \n",
            " conv2_3_2_conv (Conv2D)        (None, 15, 15, 64)   36928       ['conv2_3_1_relu[0][0]']         \n",
            "                                                                                                  \n",
            " conv2_3_2_bn (BatchNormalizati  (None, 15, 15, 64)  256         ['conv2_3_2_conv[0][0]']         \n",
            " on)                                                                                              \n",
            "                                                                                                  \n",
            " activation_15 (Activation)     (None, 15, 15, 64)   0           ['conv2_3_2_bn[0][0]']           \n",
            "                                                                                                  \n",
            " conv2_3_3_conv (Conv2D)        (None, 15, 15, 256)  16640       ['activation_15[0][0]']          \n",
            "                                                                                                  \n",
            " conv2_3_3_bn (BatchNormalizati  (None, 15, 15, 256)  1024       ['conv2_3_3_conv[0][0]']         \n",
            " on)                                                                                              \n",
            "                                                                                                  \n",
            " add_18 (Add)                   (None, 15, 15, 256)  0           ['conv2_3_3_bn[0][0]',           \n",
            "                                                                  'conv2_2_3_relu[0][0]']         \n",
            "                                                                                                  \n",
            " conv2_3_3_relu (Activation)    (None, 15, 15, 256)  0           ['add_18[0][0]']                 \n",
            "                                                                                                  \n",
            " conv3_1_1_conv (Conv2D)        (None, 8, 8, 128)    32896       ['conv2_3_3_relu[0][0]']         \n",
            "                                                                                                  \n",
            " conv3_1_1_bn (BatchNormalizati  (None, 8, 8, 128)   512         ['conv3_1_1_conv[0][0]']         \n",
            " on)                                                                                              \n",
            "                                                                                                  \n",
            " conv3_1_1_relu (Activation)    (None, 8, 8, 128)    0           ['conv3_1_1_bn[0][0]']           \n",
            "                                                                                                  \n",
            " conv3_1_2_conv (Conv2D)        (None, 8, 8, 128)    147584      ['conv3_1_1_relu[0][0]']         \n",
            "                                                                                                  \n",
            " conv3_1_2_bn (BatchNormalizati  (None, 8, 8, 128)   512         ['conv3_1_2_conv[0][0]']         \n",
            " on)                                                                                              \n",
            "                                                                                                  \n",
            " conv3_1_2_relu (Activation)    (None, 8, 8, 128)    0           ['conv3_1_2_bn[0][0]']           \n",
            "                                                                                                  \n",
            " conv3_1_3_conv (Conv2D)        (None, 8, 8, 512)    66048       ['conv3_1_2_relu[0][0]']         \n",
            "                                                                                                  \n",
            " conv3_1_short_conv (Conv2D)    (None, 8, 8, 512)    131584      ['conv2_3_3_relu[0][0]']         \n",
            "                                                                                                  \n",
            " conv3_1_3_bn (BatchNormalizati  (None, 8, 8, 512)   2048        ['conv3_1_3_conv[0][0]']         \n",
            " on)                                                                                              \n",
            "                                                                                                  \n",
            " conv3_1_short_bn (BatchNormali  (None, 8, 8, 512)   2048        ['conv3_1_short_conv[0][0]']     \n",
            " zation)                                                                                          \n",
            "                                                                                                  \n",
            " add_19 (Add)                   (None, 8, 8, 512)    0           ['conv3_1_3_bn[0][0]',           \n",
            "                                                                  'conv3_1_short_bn[0][0]']       \n",
            "                                                                                                  \n",
            " conv3_1_3_relu (Activation)    (None, 8, 8, 512)    0           ['add_19[0][0]']                 \n",
            "                                                                                                  \n",
            " conv3_2_1_conv (Conv2D)        (None, 8, 8, 128)    65664       ['conv3_1_3_relu[0][0]']         \n",
            "                                                                                                  \n",
            " conv3_2_1_bn (BatchNormalizati  (None, 8, 8, 128)   512         ['conv3_2_1_conv[0][0]']         \n",
            " on)                                                                                              \n",
            "                                                                                                  \n",
            " conv3_2_1_relu (Activation)    (None, 8, 8, 128)    0           ['conv3_2_1_bn[0][0]']           \n",
            "                                                                                                  \n",
            " conv3_2_2_conv (Conv2D)        (None, 8, 8, 128)    147584      ['conv3_2_1_relu[0][0]']         \n",
            "                                                                                                  \n",
            " conv3_2_2_bn (BatchNormalizati  (None, 8, 8, 128)   512         ['conv3_2_2_conv[0][0]']         \n",
            " on)                                                                                              \n",
            "                                                                                                  \n",
            " activation_16 (Activation)     (None, 8, 8, 128)    0           ['conv3_2_2_bn[0][0]']           \n",
            "                                                                                                  \n",
            " conv3_2_3_conv (Conv2D)        (None, 8, 8, 512)    66048       ['activation_16[0][0]']          \n",
            "                                                                                                  \n",
            " conv3_2_3_bn (BatchNormalizati  (None, 8, 8, 512)   2048        ['conv3_2_3_conv[0][0]']         \n",
            " on)                                                                                              \n",
            "                                                                                                  \n",
            " add_20 (Add)                   (None, 8, 8, 512)    0           ['conv3_2_3_bn[0][0]',           \n",
            "                                                                  'conv3_1_3_relu[0][0]']         \n",
            "                                                                                                  \n",
            " conv3_2_3_relu (Activation)    (None, 8, 8, 512)    0           ['add_20[0][0]']                 \n",
            "                                                                                                  \n",
            " conv3_3_1_conv (Conv2D)        (None, 8, 8, 128)    65664       ['conv3_2_3_relu[0][0]']         \n",
            "                                                                                                  \n",
            " conv3_3_1_bn (BatchNormalizati  (None, 8, 8, 128)   512         ['conv3_3_1_conv[0][0]']         \n",
            " on)                                                                                              \n",
            "                                                                                                  \n",
            " conv3_3_1_relu (Activation)    (None, 8, 8, 128)    0           ['conv3_3_1_bn[0][0]']           \n",
            "                                                                                                  \n",
            " conv3_3_2_conv (Conv2D)        (None, 8, 8, 128)    147584      ['conv3_3_1_relu[0][0]']         \n",
            "                                                                                                  \n",
            " conv3_3_2_bn (BatchNormalizati  (None, 8, 8, 128)   512         ['conv3_3_2_conv[0][0]']         \n",
            " on)                                                                                              \n",
            "                                                                                                  \n",
            " activation_17 (Activation)     (None, 8, 8, 128)    0           ['conv3_3_2_bn[0][0]']           \n",
            "                                                                                                  \n",
            " conv3_3_3_conv (Conv2D)        (None, 8, 8, 512)    66048       ['activation_17[0][0]']          \n",
            "                                                                                                  \n",
            " conv3_3_3_bn (BatchNormalizati  (None, 8, 8, 512)   2048        ['conv3_3_3_conv[0][0]']         \n",
            " on)                                                                                              \n",
            "                                                                                                  \n",
            " add_21 (Add)                   (None, 8, 8, 512)    0           ['conv3_3_3_bn[0][0]',           \n",
            "                                                                  'conv3_2_3_relu[0][0]']         \n",
            "                                                                                                  \n",
            " conv3_3_3_relu (Activation)    (None, 8, 8, 512)    0           ['add_21[0][0]']                 \n",
            "                                                                                                  \n",
            " conv3_4_1_conv (Conv2D)        (None, 8, 8, 128)    65664       ['conv3_3_3_relu[0][0]']         \n",
            "                                                                                                  \n",
            " conv3_4_1_bn (BatchNormalizati  (None, 8, 8, 128)   512         ['conv3_4_1_conv[0][0]']         \n",
            " on)                                                                                              \n",
            "                                                                                                  \n",
            " conv3_4_1_relu (Activation)    (None, 8, 8, 128)    0           ['conv3_4_1_bn[0][0]']           \n",
            "                                                                                                  \n",
            " conv3_4_2_conv (Conv2D)        (None, 8, 8, 128)    147584      ['conv3_4_1_relu[0][0]']         \n",
            "                                                                                                  \n",
            " conv3_4_2_bn (BatchNormalizati  (None, 8, 8, 128)   512         ['conv3_4_2_conv[0][0]']         \n",
            " on)                                                                                              \n",
            "                                                                                                  \n",
            " activation_18 (Activation)     (None, 8, 8, 128)    0           ['conv3_4_2_bn[0][0]']           \n",
            "                                                                                                  \n",
            " conv3_4_3_conv (Conv2D)        (None, 8, 8, 512)    66048       ['activation_18[0][0]']          \n",
            "                                                                                                  \n",
            " conv3_4_3_bn (BatchNormalizati  (None, 8, 8, 512)   2048        ['conv3_4_3_conv[0][0]']         \n",
            " on)                                                                                              \n",
            "                                                                                                  \n",
            " add_22 (Add)                   (None, 8, 8, 512)    0           ['conv3_4_3_bn[0][0]',           \n",
            "                                                                  'conv3_3_3_relu[0][0]']         \n",
            "                                                                                                  \n",
            " conv3_4_3_relu (Activation)    (None, 8, 8, 512)    0           ['add_22[0][0]']                 \n",
            "                                                                                                  \n",
            " conv4_1_1_conv (Conv2D)        (None, 4, 4, 256)    131328      ['conv3_4_3_relu[0][0]']         \n",
            "                                                                                                  \n",
            " conv4_1_1_bn (BatchNormalizati  (None, 4, 4, 256)   1024        ['conv4_1_1_conv[0][0]']         \n",
            " on)                                                                                              \n",
            "                                                                                                  \n",
            " conv4_1_1_relu (Activation)    (None, 4, 4, 256)    0           ['conv4_1_1_bn[0][0]']           \n",
            "                                                                                                  \n",
            " conv4_1_2_conv (Conv2D)        (None, 4, 4, 256)    590080      ['conv4_1_1_relu[0][0]']         \n",
            "                                                                                                  \n",
            " conv4_1_2_bn (BatchNormalizati  (None, 4, 4, 256)   1024        ['conv4_1_2_conv[0][0]']         \n",
            " on)                                                                                              \n",
            "                                                                                                  \n",
            " conv4_1_2_relu (Activation)    (None, 4, 4, 256)    0           ['conv4_1_2_bn[0][0]']           \n",
            "                                                                                                  \n",
            " conv4_1_3_conv (Conv2D)        (None, 4, 4, 1024)   263168      ['conv4_1_2_relu[0][0]']         \n",
            "                                                                                                  \n",
            " conv4_1_short_conv (Conv2D)    (None, 4, 4, 1024)   525312      ['conv3_4_3_relu[0][0]']         \n",
            "                                                                                                  \n",
            " conv4_1_3_bn (BatchNormalizati  (None, 4, 4, 1024)  4096        ['conv4_1_3_conv[0][0]']         \n",
            " on)                                                                                              \n",
            "                                                                                                  \n",
            " conv4_1_short_bn (BatchNormali  (None, 4, 4, 1024)  4096        ['conv4_1_short_conv[0][0]']     \n",
            " zation)                                                                                          \n",
            "                                                                                                  \n",
            " add_23 (Add)                   (None, 4, 4, 1024)   0           ['conv4_1_3_bn[0][0]',           \n",
            "                                                                  'conv4_1_short_bn[0][0]']       \n",
            "                                                                                                  \n",
            " conv4_1_3_relu (Activation)    (None, 4, 4, 1024)   0           ['add_23[0][0]']                 \n",
            "                                                                                                  \n",
            " conv4_2_1_conv (Conv2D)        (None, 4, 4, 256)    262400      ['conv4_1_3_relu[0][0]']         \n",
            "                                                                                                  \n",
            " conv4_2_1_bn (BatchNormalizati  (None, 4, 4, 256)   1024        ['conv4_2_1_conv[0][0]']         \n",
            " on)                                                                                              \n",
            "                                                                                                  \n",
            " conv4_2_1_relu (Activation)    (None, 4, 4, 256)    0           ['conv4_2_1_bn[0][0]']           \n",
            "                                                                                                  \n",
            " conv4_2_2_conv (Conv2D)        (None, 4, 4, 256)    590080      ['conv4_2_1_relu[0][0]']         \n",
            "                                                                                                  \n",
            " conv4_2_2_bn (BatchNormalizati  (None, 4, 4, 256)   1024        ['conv4_2_2_conv[0][0]']         \n",
            " on)                                                                                              \n",
            "                                                                                                  \n",
            " activation_19 (Activation)     (None, 4, 4, 256)    0           ['conv4_2_2_bn[0][0]']           \n",
            "                                                                                                  \n",
            " conv4_2_3_conv (Conv2D)        (None, 4, 4, 1024)   263168      ['activation_19[0][0]']          \n",
            "                                                                                                  \n",
            " conv4_2_3_bn (BatchNormalizati  (None, 4, 4, 1024)  4096        ['conv4_2_3_conv[0][0]']         \n",
            " on)                                                                                              \n",
            "                                                                                                  \n",
            " add_24 (Add)                   (None, 4, 4, 1024)   0           ['conv4_2_3_bn[0][0]',           \n",
            "                                                                  'conv4_1_3_relu[0][0]']         \n",
            "                                                                                                  \n",
            " conv4_2_3_relu (Activation)    (None, 4, 4, 1024)   0           ['add_24[0][0]']                 \n",
            "                                                                                                  \n",
            " conv4_3_1_conv (Conv2D)        (None, 4, 4, 256)    262400      ['conv4_2_3_relu[0][0]']         \n",
            "                                                                                                  \n",
            " conv4_3_1_bn (BatchNormalizati  (None, 4, 4, 256)   1024        ['conv4_3_1_conv[0][0]']         \n",
            " on)                                                                                              \n",
            "                                                                                                  \n",
            " conv4_3_1_relu (Activation)    (None, 4, 4, 256)    0           ['conv4_3_1_bn[0][0]']           \n",
            "                                                                                                  \n",
            " conv4_3_2_conv (Conv2D)        (None, 4, 4, 256)    590080      ['conv4_3_1_relu[0][0]']         \n",
            "                                                                                                  \n",
            " conv4_3_2_bn (BatchNormalizati  (None, 4, 4, 256)   1024        ['conv4_3_2_conv[0][0]']         \n",
            " on)                                                                                              \n",
            "                                                                                                  \n",
            " activation_20 (Activation)     (None, 4, 4, 256)    0           ['conv4_3_2_bn[0][0]']           \n",
            "                                                                                                  \n",
            " conv4_3_3_conv (Conv2D)        (None, 4, 4, 1024)   263168      ['activation_20[0][0]']          \n",
            "                                                                                                  \n",
            " conv4_3_3_bn (BatchNormalizati  (None, 4, 4, 1024)  4096        ['conv4_3_3_conv[0][0]']         \n",
            " on)                                                                                              \n",
            "                                                                                                  \n",
            " add_25 (Add)                   (None, 4, 4, 1024)   0           ['conv4_3_3_bn[0][0]',           \n",
            "                                                                  'conv4_2_3_relu[0][0]']         \n",
            "                                                                                                  \n",
            " conv4_3_3_relu (Activation)    (None, 4, 4, 1024)   0           ['add_25[0][0]']                 \n",
            "                                                                                                  \n",
            " conv4_4_1_conv (Conv2D)        (None, 4, 4, 256)    262400      ['conv4_3_3_relu[0][0]']         \n",
            "                                                                                                  \n",
            " conv4_4_1_bn (BatchNormalizati  (None, 4, 4, 256)   1024        ['conv4_4_1_conv[0][0]']         \n",
            " on)                                                                                              \n",
            "                                                                                                  \n",
            " conv4_4_1_relu (Activation)    (None, 4, 4, 256)    0           ['conv4_4_1_bn[0][0]']           \n",
            "                                                                                                  \n",
            " conv4_4_2_conv (Conv2D)        (None, 4, 4, 256)    590080      ['conv4_4_1_relu[0][0]']         \n",
            "                                                                                                  \n",
            " conv4_4_2_bn (BatchNormalizati  (None, 4, 4, 256)   1024        ['conv4_4_2_conv[0][0]']         \n",
            " on)                                                                                              \n",
            "                                                                                                  \n",
            " activation_21 (Activation)     (None, 4, 4, 256)    0           ['conv4_4_2_bn[0][0]']           \n",
            "                                                                                                  \n",
            " conv4_4_3_conv (Conv2D)        (None, 4, 4, 1024)   263168      ['activation_21[0][0]']          \n",
            "                                                                                                  \n",
            " conv4_4_3_bn (BatchNormalizati  (None, 4, 4, 1024)  4096        ['conv4_4_3_conv[0][0]']         \n",
            " on)                                                                                              \n",
            "                                                                                                  \n",
            " add_26 (Add)                   (None, 4, 4, 1024)   0           ['conv4_4_3_bn[0][0]',           \n",
            "                                                                  'conv4_3_3_relu[0][0]']         \n",
            "                                                                                                  \n",
            " conv4_4_3_relu (Activation)    (None, 4, 4, 1024)   0           ['add_26[0][0]']                 \n",
            "                                                                                                  \n",
            " conv4_5_1_conv (Conv2D)        (None, 4, 4, 256)    262400      ['conv4_4_3_relu[0][0]']         \n",
            "                                                                                                  \n",
            " conv4_5_1_bn (BatchNormalizati  (None, 4, 4, 256)   1024        ['conv4_5_1_conv[0][0]']         \n",
            " on)                                                                                              \n",
            "                                                                                                  \n",
            " conv4_5_1_relu (Activation)    (None, 4, 4, 256)    0           ['conv4_5_1_bn[0][0]']           \n",
            "                                                                                                  \n",
            " conv4_5_2_conv (Conv2D)        (None, 4, 4, 256)    590080      ['conv4_5_1_relu[0][0]']         \n",
            "                                                                                                  \n",
            " conv4_5_2_bn (BatchNormalizati  (None, 4, 4, 256)   1024        ['conv4_5_2_conv[0][0]']         \n",
            " on)                                                                                              \n",
            "                                                                                                  \n",
            " activation_22 (Activation)     (None, 4, 4, 256)    0           ['conv4_5_2_bn[0][0]']           \n",
            "                                                                                                  \n",
            " conv4_5_3_conv (Conv2D)        (None, 4, 4, 1024)   263168      ['activation_22[0][0]']          \n",
            "                                                                                                  \n",
            " conv4_5_3_bn (BatchNormalizati  (None, 4, 4, 1024)  4096        ['conv4_5_3_conv[0][0]']         \n",
            " on)                                                                                              \n",
            "                                                                                                  \n",
            " add_27 (Add)                   (None, 4, 4, 1024)   0           ['conv4_5_3_bn[0][0]',           \n",
            "                                                                  'conv4_4_3_relu[0][0]']         \n",
            "                                                                                                  \n",
            " conv4_5_3_relu (Activation)    (None, 4, 4, 1024)   0           ['add_27[0][0]']                 \n",
            "                                                                                                  \n",
            " conv4_6_1_conv (Conv2D)        (None, 4, 4, 256)    262400      ['conv4_5_3_relu[0][0]']         \n",
            "                                                                                                  \n",
            " conv4_6_1_bn (BatchNormalizati  (None, 4, 4, 256)   1024        ['conv4_6_1_conv[0][0]']         \n",
            " on)                                                                                              \n",
            "                                                                                                  \n",
            " conv4_6_1_relu (Activation)    (None, 4, 4, 256)    0           ['conv4_6_1_bn[0][0]']           \n",
            "                                                                                                  \n",
            " conv4_6_2_conv (Conv2D)        (None, 4, 4, 256)    590080      ['conv4_6_1_relu[0][0]']         \n",
            "                                                                                                  \n",
            " conv4_6_2_bn (BatchNormalizati  (None, 4, 4, 256)   1024        ['conv4_6_2_conv[0][0]']         \n",
            " on)                                                                                              \n",
            "                                                                                                  \n",
            " activation_23 (Activation)     (None, 4, 4, 256)    0           ['conv4_6_2_bn[0][0]']           \n",
            "                                                                                                  \n",
            " conv4_6_3_conv (Conv2D)        (None, 4, 4, 1024)   263168      ['activation_23[0][0]']          \n",
            "                                                                                                  \n",
            " conv4_6_3_bn (BatchNormalizati  (None, 4, 4, 1024)  4096        ['conv4_6_3_conv[0][0]']         \n",
            " on)                                                                                              \n",
            "                                                                                                  \n",
            " add_28 (Add)                   (None, 4, 4, 1024)   0           ['conv4_6_3_bn[0][0]',           \n",
            "                                                                  'conv4_5_3_relu[0][0]']         \n",
            "                                                                                                  \n",
            " conv4_6_3_relu (Activation)    (None, 4, 4, 1024)   0           ['add_28[0][0]']                 \n",
            "                                                                                                  \n",
            " conv5_1_1_conv (Conv2D)        (None, 2, 2, 512)    524800      ['conv4_6_3_relu[0][0]']         \n",
            "                                                                                                  \n",
            " conv5_1_1_bn (BatchNormalizati  (None, 2, 2, 512)   2048        ['conv5_1_1_conv[0][0]']         \n",
            " on)                                                                                              \n",
            "                                                                                                  \n",
            " conv5_1_1_relu (Activation)    (None, 2, 2, 512)    0           ['conv5_1_1_bn[0][0]']           \n",
            "                                                                                                  \n",
            " conv5_1_2_conv (Conv2D)        (None, 2, 2, 512)    2359808     ['conv5_1_1_relu[0][0]']         \n",
            "                                                                                                  \n",
            " conv5_1_2_bn (BatchNormalizati  (None, 2, 2, 512)   2048        ['conv5_1_2_conv[0][0]']         \n",
            " on)                                                                                              \n",
            "                                                                                                  \n",
            " conv5_1_2_relu (Activation)    (None, 2, 2, 512)    0           ['conv5_1_2_bn[0][0]']           \n",
            "                                                                                                  \n",
            " conv5_1_3_conv (Conv2D)        (None, 2, 2, 2048)   1050624     ['conv5_1_2_relu[0][0]']         \n",
            "                                                                                                  \n",
            " conv5_1_short_conv (Conv2D)    (None, 2, 2, 2048)   2099200     ['conv4_6_3_relu[0][0]']         \n",
            "                                                                                                  \n",
            " conv5_1_3_bn (BatchNormalizati  (None, 2, 2, 2048)  8192        ['conv5_1_3_conv[0][0]']         \n",
            " on)                                                                                              \n",
            "                                                                                                  \n",
            " conv5_1_short_bn (BatchNormali  (None, 2, 2, 2048)  8192        ['conv5_1_short_conv[0][0]']     \n",
            " zation)                                                                                          \n",
            "                                                                                                  \n",
            " add_29 (Add)                   (None, 2, 2, 2048)   0           ['conv5_1_3_bn[0][0]',           \n",
            "                                                                  'conv5_1_short_bn[0][0]']       \n",
            "                                                                                                  \n",
            " conv5_1_3_relu (Activation)    (None, 2, 2, 2048)   0           ['add_29[0][0]']                 \n",
            "                                                                                                  \n",
            " conv5_2_1_conv (Conv2D)        (None, 2, 2, 512)    1049088     ['conv5_1_3_relu[0][0]']         \n",
            "                                                                                                  \n",
            " conv5_2_1_bn (BatchNormalizati  (None, 2, 2, 512)   2048        ['conv5_2_1_conv[0][0]']         \n",
            " on)                                                                                              \n",
            "                                                                                                  \n",
            " conv5_2_1_relu (Activation)    (None, 2, 2, 512)    0           ['conv5_2_1_bn[0][0]']           \n",
            "                                                                                                  \n",
            " conv5_2_2_conv (Conv2D)        (None, 2, 2, 512)    2359808     ['conv5_2_1_relu[0][0]']         \n",
            "                                                                                                  \n",
            " conv5_2_2_bn (BatchNormalizati  (None, 2, 2, 512)   2048        ['conv5_2_2_conv[0][0]']         \n",
            " on)                                                                                              \n",
            "                                                                                                  \n",
            " activation_24 (Activation)     (None, 2, 2, 512)    0           ['conv5_2_2_bn[0][0]']           \n",
            "                                                                                                  \n",
            " conv5_2_3_conv (Conv2D)        (None, 2, 2, 2048)   1050624     ['activation_24[0][0]']          \n",
            "                                                                                                  \n",
            " conv5_2_3_bn (BatchNormalizati  (None, 2, 2, 2048)  8192        ['conv5_2_3_conv[0][0]']         \n",
            " on)                                                                                              \n",
            "                                                                                                  \n",
            " add_30 (Add)                   (None, 2, 2, 2048)   0           ['conv5_2_3_bn[0][0]',           \n",
            "                                                                  'conv5_1_3_relu[0][0]']         \n",
            "                                                                                                  \n",
            " conv5_2_3_relu (Activation)    (None, 2, 2, 2048)   0           ['add_30[0][0]']                 \n",
            "                                                                                                  \n",
            " conv5_3_1_conv (Conv2D)        (None, 2, 2, 512)    1049088     ['conv5_2_3_relu[0][0]']         \n",
            "                                                                                                  \n",
            " conv5_3_1_bn (BatchNormalizati  (None, 2, 2, 512)   2048        ['conv5_3_1_conv[0][0]']         \n",
            " on)                                                                                              \n",
            "                                                                                                  \n",
            " conv5_3_1_relu (Activation)    (None, 2, 2, 512)    0           ['conv5_3_1_bn[0][0]']           \n",
            "                                                                                                  \n",
            " conv5_3_2_conv (Conv2D)        (None, 2, 2, 512)    2359808     ['conv5_3_1_relu[0][0]']         \n",
            "                                                                                                  \n",
            " conv5_3_2_bn (BatchNormalizati  (None, 2, 2, 512)   2048        ['conv5_3_2_conv[0][0]']         \n",
            " on)                                                                                              \n",
            "                                                                                                  \n",
            " activation_25 (Activation)     (None, 2, 2, 512)    0           ['conv5_3_2_bn[0][0]']           \n",
            "                                                                                                  \n",
            " conv5_3_3_conv (Conv2D)        (None, 2, 2, 2048)   1050624     ['activation_25[0][0]']          \n",
            "                                                                                                  \n",
            " conv5_3_3_bn (BatchNormalizati  (None, 2, 2, 2048)  8192        ['conv5_3_3_conv[0][0]']         \n",
            " on)                                                                                              \n",
            "                                                                                                  \n",
            " add_31 (Add)                   (None, 2, 2, 2048)   0           ['conv5_3_3_bn[0][0]',           \n",
            "                                                                  'conv5_2_3_relu[0][0]']         \n",
            "                                                                                                  \n",
            " conv5_3_3_relu (Activation)    (None, 2, 2, 2048)   0           ['add_31[0][0]']                 \n",
            "                                                                                                  \n",
            " avg_pool (AveragePooling2D)    (None, 1, 1, 2048)   0           ['conv5_3_3_relu[0][0]']         \n",
            "                                                                                                  \n",
            " flatten_1 (Flatten)            (None, 2048)         0           ['avg_pool[0][0]']               \n",
            "                                                                                                  \n",
            " fc_3 (Dense)                   (None, 3)            6147        ['flatten_1[0][0]']              \n",
            "                                                                                                  \n",
            "==================================================================================================\n",
            "Total params: 23,587,587\n",
            "Trainable params: 23,534,467\n",
            "Non-trainable params: 53,120\n",
            "__________________________________________________________________________________________________\n"
          ]
        }
      ]
    },
    {
      "cell_type": "code",
      "source": [
        "model.compile(\n",
        "    optimizer='adam', # optimizer\n",
        "    loss='categorical_crossentropy', # loss function to optimize \n",
        "    metrics=['accuracy'] # metrics to monitor\n",
        ")"
      ],
      "metadata": {
        "id": "3IzeVqDiy2Gh"
      },
      "execution_count": null,
      "outputs": []
    },
    {
      "cell_type": "code",
      "source": [
        "from keras.callbacks import ReduceLROnPlateau,EarlyStopping\n",
        "\n",
        "erlystop=EarlyStopping(monitor='val_accuracy', min_delta=0, patience=7, verbose=0,mode='max', baseline=None)\n",
        "cp_callback = ModelCheckpoint('/content/checkpoint', verbose=1, save_weights_only=True,save_freq='epoch',save_best_only=True,monitor='val_accuracy',mode='max')\n",
        "rlrop = ReduceLROnPlateau(monitor='val_accuracy', patience=3,verbose=1,mode='max')"
      ],
      "metadata": {
        "id": "EOEp4if39iNX"
      },
      "execution_count": null,
      "outputs": []
    },
    {
      "cell_type": "code",
      "source": [
        "start = time.time()\n",
        "\n",
        "modelHistory = model.fit(\n",
        "    X_train,\n",
        "    y_train, \n",
        "    # validation_data=norm_val_ds,\n",
        "    validation_data=(X_test,y_test),\n",
        "    callbacks=[cp_callback, rlrop, erlystop],\n",
        "    epochs = 7,\n",
        "    verbose=1)\n",
        "\n",
        "stop = time.time()\n",
        "\n",
        "print(f'Training took: {(stop-start)/60} minutes')"
      ],
      "metadata": {
        "colab": {
          "base_uri": "https://localhost:8080/"
        },
        "id": "sQOJMjJ3zLBO",
        "outputId": "d324a6ad-4b22-4a95-80b4-69d5bd061a0d"
      },
      "execution_count": null,
      "outputs": [
        {
          "output_type": "stream",
          "name": "stdout",
          "text": [
            "Epoch 1/7\n",
            "225/225 [==============================] - ETA: 0s - loss: 3.5210e-04 - accuracy: 1.0000\n",
            "Epoch 1: val_accuracy did not improve from 0.98611\n",
            "225/225 [==============================] - 13s 57ms/step - loss: 3.5210e-04 - accuracy: 1.0000 - val_loss: 0.0630 - val_accuracy: 0.9844 - lr: 1.0000e-07\n",
            "Epoch 2/7\n",
            "225/225 [==============================] - ETA: 0s - loss: 5.9576e-04 - accuracy: 1.0000\n",
            "Epoch 2: val_accuracy did not improve from 0.98611\n",
            "225/225 [==============================] - 13s 57ms/step - loss: 5.9576e-04 - accuracy: 1.0000 - val_loss: 0.0629 - val_accuracy: 0.9850 - lr: 1.0000e-07\n",
            "Epoch 3/7\n",
            "225/225 [==============================] - ETA: 0s - loss: 3.7605e-04 - accuracy: 1.0000\n",
            "Epoch 3: val_accuracy did not improve from 0.98611\n",
            "225/225 [==============================] - 13s 59ms/step - loss: 3.7605e-04 - accuracy: 1.0000 - val_loss: 0.0628 - val_accuracy: 0.9850 - lr: 1.0000e-07\n",
            "Epoch 4/7\n",
            "225/225 [==============================] - ETA: 0s - loss: 3.3143e-04 - accuracy: 1.0000\n",
            "Epoch 4: val_accuracy did not improve from 0.98611\n",
            "225/225 [==============================] - 13s 59ms/step - loss: 3.3143e-04 - accuracy: 1.0000 - val_loss: 0.0628 - val_accuracy: 0.9850 - lr: 1.0000e-07\n",
            "Epoch 5/7\n",
            "225/225 [==============================] - ETA: 0s - loss: 7.1971e-04 - accuracy: 0.9999\n",
            "Epoch 5: val_accuracy did not improve from 0.98611\n",
            "\n",
            "Epoch 5: ReduceLROnPlateau reducing learning rate to 1.000000082740371e-08.\n",
            "225/225 [==============================] - 13s 57ms/step - loss: 7.1971e-04 - accuracy: 0.9999 - val_loss: 0.0631 - val_accuracy: 0.9844 - lr: 1.0000e-07\n",
            "Epoch 6/7\n",
            "225/225 [==============================] - ETA: 0s - loss: 3.7429e-04 - accuracy: 1.0000\n",
            "Epoch 6: val_accuracy did not improve from 0.98611\n",
            "225/225 [==============================] - 13s 56ms/step - loss: 3.7429e-04 - accuracy: 1.0000 - val_loss: 0.0632 - val_accuracy: 0.9844 - lr: 1.0000e-08\n",
            "Epoch 7/7\n",
            "225/225 [==============================] - ETA: 0s - loss: 6.0544e-04 - accuracy: 0.9999\n",
            "Epoch 7: val_accuracy did not improve from 0.98611\n",
            "225/225 [==============================] - 13s 56ms/step - loss: 6.0544e-04 - accuracy: 0.9999 - val_loss: 0.0630 - val_accuracy: 0.9844 - lr: 1.0000e-08\n",
            "Training took: 2.3672651370366413 minutes\n"
          ]
        }
      ]
    },
    {
      "cell_type": "code",
      "source": [
        "model.evaluate(X_test, y_test)"
      ],
      "metadata": {
        "colab": {
          "base_uri": "https://localhost:8080/"
        },
        "id": "8QAgVfc89Q3h",
        "outputId": "1b063e12-741c-4c66-b7bc-1ef994305502"
      },
      "execution_count": null,
      "outputs": [
        {
          "output_type": "stream",
          "name": "stdout",
          "text": [
            "57/57 [==============================] - 1s 19ms/step - loss: 0.0630 - accuracy: 0.9844\n"
          ]
        },
        {
          "output_type": "execute_result",
          "data": {
            "text/plain": [
              "[0.06302954256534576, 0.9844444394111633]"
            ]
          },
          "metadata": {},
          "execution_count": 54
        }
      ]
    },
    {
      "cell_type": "code",
      "source": [
        "model.predict(X_test)"
      ],
      "metadata": {
        "colab": {
          "base_uri": "https://localhost:8080/"
        },
        "id": "K38S3GmF9DHA",
        "outputId": "85657f42-d3fc-4751-a592-3b5c57096783"
      },
      "execution_count": null,
      "outputs": [
        {
          "output_type": "stream",
          "name": "stdout",
          "text": [
            "57/57 [==============================] - 2s 17ms/step\n"
          ]
        },
        {
          "output_type": "execute_result",
          "data": {
            "text/plain": [
              "array([[5.11089274e-05, 3.68370472e-08, 9.99948859e-01],\n",
              "       [4.98735719e-09, 4.39306591e-09, 1.00000000e+00],\n",
              "       [1.35520124e-04, 1.04595614e-07, 9.99864340e-01],\n",
              "       ...,\n",
              "       [7.26193372e-09, 2.40270498e-10, 1.00000000e+00],\n",
              "       [1.74883439e-06, 9.99989748e-01, 8.48114905e-06],\n",
              "       [7.55080350e-07, 9.99991059e-01, 8.27417080e-06]], dtype=float32)"
            ]
          },
          "metadata": {},
          "execution_count": 55
        }
      ]
    },
    {
      "cell_type": "code",
      "source": [
        "print(modelHistory.history.keys())"
      ],
      "metadata": {
        "id": "XA05lfy7zwKc",
        "colab": {
          "base_uri": "https://localhost:8080/"
        },
        "outputId": "7952f216-be57-4a7d-c477-518c2c48bac6"
      },
      "execution_count": null,
      "outputs": [
        {
          "output_type": "stream",
          "name": "stdout",
          "text": [
            "dict_keys(['loss', 'accuracy', 'val_loss', 'val_accuracy', 'lr'])\n"
          ]
        }
      ]
    },
    {
      "cell_type": "code",
      "source": [
        "# summarize history for accuracy\n",
        "# plt.subplot(2, 1, 1)\n",
        "plt.plot(modelHistory.history['accuracy'])\n",
        "plt.plot(modelHistory.history['val_accuracy'])\n",
        "plt.title('model accuracy')\n",
        "plt.ylabel('accuracy')\n",
        "plt.xlabel('epoch')\n",
        "plt.legend(['train', 'val'], loc='upper left')"
      ],
      "metadata": {
        "colab": {
          "base_uri": "https://localhost:8080/",
          "height": 312
        },
        "id": "PWlrt-9i_j1A",
        "outputId": "ae701eb7-60cb-48f5-f3ae-1ad597fd65a7"
      },
      "execution_count": null,
      "outputs": [
        {
          "output_type": "execute_result",
          "data": {
            "text/plain": [
              "<matplotlib.legend.Legend at 0x7fbd563e13d0>"
            ]
          },
          "metadata": {},
          "execution_count": 57
        },
        {
          "output_type": "display_data",
          "data": {
            "text/plain": [
              "<Figure size 432x288 with 1 Axes>"
            ],
            "image/png": "[encoded data removed]"
          },
          "metadata": {
            "needs_background": "light"
          }
        }
      ]
    },
    {
      "cell_type": "code",
      "source": [
        "# summarize history for accuracy\n",
        "# plt.subplot(2, 1, 1)\n",
        "plt.plot(modelHistory.history['accuracy'])\n",
        "plt.plot(modelHistory.history['val_accuracy'])\n",
        "plt.title('model accuracy')\n",
        "plt.ylabel('accuracy')\n",
        "plt.xlabel('epoch')\n",
        "plt.legend(['train', 'val'], loc='upper left')"
      ],
      "metadata": {
        "colab": {
          "base_uri": "https://localhost:8080/",
          "height": 312
        },
        "id": "xKMGKzTL7jp7",
        "outputId": "69d3ae59-770a-4054-9550-f470b1e62f34"
      },
      "execution_count": null,
      "outputs": [
        {
          "output_type": "execute_result",
          "data": {
            "text/plain": [
              "<matplotlib.legend.Legend at 0x7f1270810af0>"
            ]
          },
          "metadata": {},
          "execution_count": 50
        },
        {
          "output_type": "display_data",
          "data": {
            "text/plain": [
              "<Figure size 432x288 with 1 Axes>"
            ],
            "image/png": "[encoded data removed]"
          },
          "metadata": {
            "needs_background": "light"
          }
        }
      ]
    },
    {
      "cell_type": "code",
      "source": [
        "# summarize history for accuracy\n",
        "# plt.subplot(2, 1, 1)\n",
        "plt.plot(modelHistory.history['loss'])\n",
        "plt.plot(modelHistory.history['val_loss'])\n",
        "plt.title('model loss')\n",
        "plt.ylabel('loss')\n",
        "plt.xlabel('epoch')\n",
        "plt.legend(['train', 'val'], loc='upper left')"
      ],
      "metadata": {
        "colab": {
          "base_uri": "https://localhost:8080/",
          "height": 312
        },
        "id": "Y4I_53Z8_q4R",
        "outputId": "ea6779fe-132c-43c4-c5cc-002bc050debf"
      },
      "execution_count": null,
      "outputs": [
        {
          "output_type": "execute_result",
          "data": {
            "text/plain": [
              "<matplotlib.legend.Legend at 0x7fbd7c2ab910>"
            ]
          },
          "metadata": {},
          "execution_count": 58
        },
        {
          "output_type": "display_data",
          "data": {
            "text/plain": [
              "<Figure size 432x288 with 1 Axes>"
            ],
            "image/png": "[encoded data removed]"
          },
          "metadata": {
            "needs_background": "light"
          }
        }
      ]
    },
    {
      "cell_type": "code",
      "source": [
        "# summarize history for accuracy\n",
        "# plt.subplot(2, 1, 1)\n",
        "plt.plot(modelHistory.history['loss'])\n",
        "plt.plot(modelHistory.history['val_loss'])\n",
        "plt.title('model loss')\n",
        "plt.ylabel('loss')\n",
        "plt.xlabel('epoch')\n",
        "plt.legend(['train', 'val'], loc='upper left')"
      ],
      "metadata": {
        "colab": {
          "base_uri": "https://localhost:8080/",
          "height": 312
        },
        "id": "ZUrQOu5_8ujw",
        "outputId": "f63fec5d-8aeb-4431-dcb8-bd87ff6101fe"
      },
      "execution_count": null,
      "outputs": [
        {
          "output_type": "execute_result",
          "data": {
            "text/plain": [
              "<matplotlib.legend.Legend at 0x7f127076e340>"
            ]
          },
          "metadata": {},
          "execution_count": 51
        },
        {
          "output_type": "display_data",
          "data": {
            "text/plain": [
              "<Figure size 432x288 with 1 Axes>"
            ],
            "image/png": "[encoded data removed]"
          },
          "metadata": {
            "needs_background": "light"
          }
        }
      ]
    },
    {
      "cell_type": "code",
      "source": [
        "model.save('doodle_best.h5')"
      ],
      "metadata": {
        "id": "q99Zzw0J_K0Y"
      },
      "execution_count": null,
      "outputs": []
    }
  ]
}